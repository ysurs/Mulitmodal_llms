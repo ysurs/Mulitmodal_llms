{
 "cells": [
  {
   "cell_type": "markdown",
   "metadata": {},
   "source": [
    "## Importing libraries"
   ]
  },
  {
   "cell_type": "code",
   "execution_count": 62,
   "metadata": {},
   "outputs": [],
   "source": [
    "import torch\n",
    "from torch import nn\n",
    "from torch.nn import functional as F\n",
    "import numpy as np\n",
    "from matplotlib import pyplot as plt\n",
    "import time\n",
    "import pandas as pd\n",
    "from einops import rearrange\n",
    "from torch import einsum\n"
   ]
  },
  {
   "cell_type": "markdown",
   "metadata": {},
   "source": [
    "## Generating vocabulary and reading the dataset"
   ]
  },
  {
   "cell_type": "code",
   "execution_count": 63,
   "metadata": {},
   "outputs": [
    {
     "name": "stdout",
     "output_type": "stream",
     "text": [
      "First Citizen:\n",
      "Before we proce\n"
     ]
    }
   ],
   "source": [
    "lines = open('/Users/yashsurange/Documents/GitHub/Mulitmodal_llms/tinyshakespear.txt', 'r').read()\n",
    "\n",
    "vocab = sorted(list(set(lines)))\n",
    "itos = {i:ch for i, ch in enumerate(vocab)}\n",
    "stoi = {ch:i for i, ch in enumerate(vocab)}\n",
    "\n",
    "print(lines[:30])"
   ]
  },
  {
   "cell_type": "code",
   "execution_count": 64,
   "metadata": {},
   "outputs": [
    {
     "data": {
      "text/plain": [
       "65"
      ]
     },
     "execution_count": 64,
     "metadata": {},
     "output_type": "execute_result"
    }
   ],
   "source": [
    "len(vocab)"
   ]
  },
  {
   "cell_type": "code",
   "execution_count": 65,
   "metadata": {},
   "outputs": [
    {
     "data": {
      "text/plain": [
       "1115393"
      ]
     },
     "execution_count": 65,
     "metadata": {},
     "output_type": "execute_result"
    }
   ],
   "source": [
    "# Approx 1M tokens which here are characters, original llama was trained on 1.4T tokens\n",
    "len([i for i in lines])\n"
   ]
  },
  {
   "cell_type": "markdown",
   "metadata": {},
   "source": [
    "## Using character level tokenizer for this implementation"
   ]
  },
  {
   "cell_type": "code",
   "execution_count": 66,
   "metadata": {},
   "outputs": [
    {
     "name": "stdout",
     "output_type": "stream",
     "text": [
      "vocab size: 65\n"
     ]
    },
    {
     "data": {
      "text/plain": [
       "'hello'"
      ]
     },
     "execution_count": 66,
     "metadata": {},
     "output_type": "execute_result"
    }
   ],
   "source": [
    "# simple tokenization by characters\n",
    "def encode(s):\n",
    "    return [stoi[ch] for ch in s]\n",
    "\n",
    "def decode(l):\n",
    "    return ''.join([itos[i] for i in l])\n",
    "\n",
    "print('vocab size:', len(vocab))\n",
    "decode(encode(\"hello\"))"
   ]
  },
  {
   "cell_type": "code",
   "execution_count": 20,
   "metadata": {},
   "outputs": [
    {
     "data": {
      "text/plain": [
       "[63, 39, 57, 46]"
      ]
     },
     "execution_count": 20,
     "metadata": {},
     "output_type": "execute_result"
    }
   ],
   "source": [
    "encode('yash')"
   ]
  },
  {
   "cell_type": "code",
   "execution_count": 23,
   "metadata": {},
   "outputs": [
    {
     "data": {
      "text/plain": [
       "'K&p'"
      ]
     },
     "execution_count": 23,
     "metadata": {},
     "output_type": "execute_result"
    }
   ],
   "source": [
    "decode([23,4,54])"
   ]
  },
  {
   "cell_type": "markdown",
   "metadata": {},
   "source": [
    "******"
   ]
  },
  {
   "cell_type": "markdown",
   "metadata": {},
   "source": [
    "### Note 1: Using config object to store parameters. Helps with readability. This will go into a separate file."
   ]
  },
  {
   "cell_type": "markdown",
   "metadata": {},
   "source": [
    "*****"
   ]
  },
  {
   "cell_type": "code",
   "execution_count": 67,
   "metadata": {},
   "outputs": [],
   "source": [
    "MASTER_CONFIG = {\n",
    "    \"vocab_size\": len(vocab),\n",
    "}\n"
   ]
  },
  {
   "cell_type": "markdown",
   "metadata": {},
   "source": [
    "## Creating dataset"
   ]
  },
  {
   "cell_type": "code",
   "execution_count": 68,
   "metadata": {},
   "outputs": [
    {
     "data": {
      "text/plain": [
       "torch.Size([1115393])"
      ]
     },
     "execution_count": 68,
     "metadata": {},
     "output_type": "execute_result"
    }
   ],
   "source": [
    "dataset = torch.tensor(encode(lines), dtype=torch.int8)\n",
    "dataset.shape"
   ]
  },
  {
   "cell_type": "markdown",
   "metadata": {},
   "source": [
    "## Creating batches\n"
   ]
  },
  {
   "cell_type": "markdown",
   "metadata": {},
   "source": [
    "****"
   ]
  },
  {
   "cell_type": "markdown",
   "metadata": {},
   "source": [
    "### Note 2: Will use same for train, validation and testing. Testing functions on the go is important"
   ]
  },
  {
   "cell_type": "markdown",
   "metadata": {},
   "source": [
    "*****"
   ]
  },
  {
   "cell_type": "code",
   "execution_count": 69,
   "metadata": {},
   "outputs": [
    {
     "data": {
      "text/plain": [
       "[('e murderer shall', ' murderer shall '),\n",
       " ('lk of. Tell me, ', 'k of. Tell me, d'),\n",
       " ('A marvellous poo', ' marvellous poor'),\n",
       " (',\\nAnd so I am: t', '\\nAnd so I am: th'),\n",
       " ('ve.\\nAnd leave yo', 'e.\\nAnd leave you'),\n",
       " ('ch so took effec', 'h so took effect'),\n",
       " ('ow the beam of s', 'w the beam of si'),\n",
       " ('ad a volume of f', 'd a volume of fa')]"
      ]
     },
     "execution_count": 69,
     "metadata": {},
     "output_type": "execute_result"
    }
   ],
   "source": [
    "def get_batches(data, split, batch_size, context_window, config=MASTER_CONFIG):\n",
    "    train = data[:int(.8 * len(data))]\n",
    "    val = data[int(.8 * len(data)): int(.9 * len(data))]\n",
    "    test = data[int(.9 * len(data)):]\n",
    "    \n",
    "    batch_data = train\n",
    "    if split == 'val':\n",
    "        batch_data = val\n",
    "\n",
    "    if split == 'test':\n",
    "        batch_data = test\n",
    "    \n",
    "    # pick random starting points\n",
    "    ix = torch.randint(0, batch_data.size(0) - context_window - 1, (batch_size,))\n",
    "    x = torch.stack([batch_data[i:i+context_window] for i in ix]).long()\n",
    "    y = torch.stack([batch_data[i+1:i+context_window+1] for i in ix]).long()\n",
    "    return x, y\n",
    "\n",
    "\n",
    "MASTER_CONFIG.update({\n",
    "    'batch_size': 8,\n",
    "    'context_window': 16\n",
    "})\n",
    "\n",
    "xs, ys = get_batches(dataset, 'train', MASTER_CONFIG['batch_size'], MASTER_CONFIG['context_window'])\n",
    "\n",
    "[(decode(xs[i].tolist()), decode(ys[i].tolist())) for i in range(len(xs))]"
   ]
  },
  {
   "cell_type": "code",
   "execution_count": 70,
   "metadata": {},
   "outputs": [
    {
     "data": {
      "text/plain": [
       "tensor([43,  1, 51, 59, 56, 42, 43, 56, 43, 56,  1, 57, 46, 39, 50, 50])"
      ]
     },
     "execution_count": 70,
     "metadata": {},
     "output_type": "execute_result"
    }
   ],
   "source": [
    "xs[0]"
   ]
  },
  {
   "cell_type": "code",
   "execution_count": 69,
   "metadata": {},
   "outputs": [
    {
     "data": {
      "text/plain": [
       "tensor([43, 56,  1, 44, 56, 47, 43, 52, 42, 57,  6,  0, 21,  1, 41, 56])"
      ]
     },
     "execution_count": 69,
     "metadata": {},
     "output_type": "execute_result"
    }
   ],
   "source": [
    "ys[0]"
   ]
  },
  {
   "cell_type": "code",
   "execution_count": 58,
   "metadata": {},
   "outputs": [
    {
     "data": {
      "text/plain": [
       "tensor([50, 43, 56,  1, 44, 56, 47, 43, 52, 42, 57,  6,  0, 21,  1, 41])"
      ]
     },
     "execution_count": 58,
     "metadata": {},
     "output_type": "execute_result"
    }
   ],
   "source": [
    "xs[0][:16]"
   ]
  },
  {
   "cell_type": "code",
   "execution_count": 70,
   "metadata": {},
   "outputs": [
    {
     "name": "stdout",
     "output_type": "stream",
     "text": [
      "with context:tensor([50]) and target is: 43\n",
      "with context:tensor([50, 43]) and target is: 56\n",
      "with context:tensor([50, 43, 56]) and target is: 1\n",
      "with context:tensor([50, 43, 56,  1]) and target is: 44\n",
      "with context:tensor([50, 43, 56,  1, 44]) and target is: 56\n",
      "with context:tensor([50, 43, 56,  1, 44, 56]) and target is: 47\n",
      "with context:tensor([50, 43, 56,  1, 44, 56, 47]) and target is: 43\n",
      "with context:tensor([50, 43, 56,  1, 44, 56, 47, 43]) and target is: 52\n",
      "with context:tensor([50, 43, 56,  1, 44, 56, 47, 43, 52]) and target is: 42\n",
      "with context:tensor([50, 43, 56,  1, 44, 56, 47, 43, 52, 42]) and target is: 57\n",
      "with context:tensor([50, 43, 56,  1, 44, 56, 47, 43, 52, 42, 57]) and target is: 6\n",
      "with context:tensor([50, 43, 56,  1, 44, 56, 47, 43, 52, 42, 57,  6]) and target is: 0\n",
      "with context:tensor([50, 43, 56,  1, 44, 56, 47, 43, 52, 42, 57,  6,  0]) and target is: 21\n",
      "with context:tensor([50, 43, 56,  1, 44, 56, 47, 43, 52, 42, 57,  6,  0, 21]) and target is: 1\n",
      "with context:tensor([50, 43, 56,  1, 44, 56, 47, 43, 52, 42, 57,  6,  0, 21,  1]) and target is: 41\n"
     ]
    }
   ],
   "source": [
    "for i in range(MASTER_CONFIG['context_window']-1):\n",
    "  context=xs[0][:i+1]\n",
    "  target=xs[0][i+1]\n",
    "  print(f\"with context:{context} and target is: {target}\")"
   ]
  },
  {
   "cell_type": "markdown",
   "metadata": {},
   "source": [
    "### These are the examples that are packed inside the input"
   ]
  },
  {
   "cell_type": "markdown",
   "metadata": {},
   "source": [
    "****"
   ]
  },
  {
   "cell_type": "markdown",
   "metadata": {},
   "source": [
    "### Note 3: To make the model work: 1. shapes of tensors should not cause problems hence no compilation erros 2. model loss should go down. It is useful to create a method to evaluate the model first."
   ]
  },
  {
   "cell_type": "markdown",
   "metadata": {},
   "source": [
    "****"
   ]
  },
  {
   "cell_type": "markdown",
   "metadata": {},
   "source": [
    "## Creating evaluation method"
   ]
  },
  {
   "cell_type": "code",
   "execution_count": 71,
   "metadata": {},
   "outputs": [],
   "source": [
    "@torch.no_grad()  # don't compute gradients for this function\n",
    "def evaluate_loss(model, config=MASTER_CONFIG):\n",
    "    out = {}\n",
    "    model.eval()\n",
    "    for split in [\"train\", \"val\"]:\n",
    "        losses = []\n",
    "        for _ in range(10):\n",
    "            xb, yb = get_batches(dataset, split, config['batch_size'], config['context_window'])\n",
    "            _, loss = model(xb, yb)\n",
    "            losses.append(loss.item())\n",
    "        out[split] = np.mean(losses)\n",
    "    model.train()\n",
    "    return out"
   ]
  },
  {
   "cell_type": "code",
   "execution_count": 74,
   "metadata": {},
   "outputs": [
    {
     "data": {
      "text/plain": [
       "{'train': 4.173854684829712, 'val': 4.173903846740723}"
      ]
     },
     "execution_count": 74,
     "metadata": {},
     "output_type": "execute_result"
    }
   ],
   "source": [
    "# Initial loss i.e before any training\n",
    "evaluate_loss(model)"
   ]
  },
  {
   "cell_type": "markdown",
   "metadata": {},
   "source": [
    "## Creating a simple model- we will build llama by swapping out parts of this model eventually"
   ]
  },
  {
   "cell_type": "code",
   "execution_count": 73,
   "metadata": {},
   "outputs": [
    {
     "name": "stdout",
     "output_type": "stream",
     "text": [
      "model params: 33217\n"
     ]
    }
   ],
   "source": [
    "class SimpleBrokenModel(nn.Module):\n",
    "    def __init__(self, config=MASTER_CONFIG):\n",
    "        super().__init__()\n",
    "        self.config = config\n",
    "\n",
    "        self.embedding = nn.Embedding(config['vocab_size'], config['d_model'])\n",
    "        self.linear = nn.Sequential(\n",
    "            nn.Linear(config['d_model'], config['d_model']),\n",
    "            nn.ReLU(),\n",
    "            nn.Linear(config['d_model'], config['vocab_size']),\n",
    "        )\n",
    "        print(\"model params:\", sum([m.numel() for m in self.parameters()]))\n",
    "\n",
    "    \n",
    "    def forward(self, idx, targets=None):\n",
    "        x = self.embedding(idx)\n",
    "        a = self.linear(x)\n",
    "        \n",
    "        logits = F.softmax(a, dim=-1)\n",
    "        \n",
    "\n",
    "        if targets is not None:\n",
    "            loss = F.cross_entropy(logits.view(-1, self.config['vocab_size']), targets.view(-1))\n",
    "            return logits, loss\n",
    "\n",
    "        else:\n",
    "            return logits\n",
    "\n",
    "MASTER_CONFIG.update({\n",
    "    'd_model': 128,\n",
    "})\n",
    "model = SimpleBrokenModel(MASTER_CONFIG)\n",
    "xs, ys = get_batches(dataset, 'train', MASTER_CONFIG['batch_size'], MASTER_CONFIG['context_window'])\n",
    "\n",
    "logits,loss=model(xs,ys)"
   ]
  },
  {
   "cell_type": "code",
   "execution_count": 75,
   "metadata": {},
   "outputs": [
    {
     "data": {
      "text/plain": [
       "torch.Size([8, 16])"
      ]
     },
     "execution_count": 75,
     "metadata": {},
     "output_type": "execute_result"
    }
   ],
   "source": [
    "ys.shape"
   ]
  },
  {
   "cell_type": "code",
   "execution_count": 51,
   "metadata": {},
   "outputs": [
    {
     "data": {
      "text/plain": [
       "torch.Size([128])"
      ]
     },
     "execution_count": 51,
     "metadata": {},
     "output_type": "execute_result"
    }
   ],
   "source": [
    "ys.view(-1).shape"
   ]
  },
  {
   "cell_type": "code",
   "execution_count": 22,
   "metadata": {},
   "outputs": [
    {
     "data": {
      "text/plain": [
       "tensor([[50, 53, 53, 49, 43, 42,  1, 58, 53, 61, 39, 56, 42,  1, 17, 52],\n",
       "        [ 1, 57, 46, 39, 50, 50,  1, 52, 53, 58,  8,  0, 25, 43, 58, 46],\n",
       "        [61,  1, 50, 47, 49, 43,  1, 63, 53, 59,  1, 53, 59, 56,  1, 41],\n",
       "        [ 1, 59, 52, 44, 43, 47, 45, 52, 43, 42,  1, 44, 56, 47, 43, 52],\n",
       "        [60, 39, 58, 43,  1, 44, 56, 47, 43, 52, 42, 57,  1, 59, 54, 53],\n",
       "        [46, 43, 56, 43,  1, 57, 46, 39, 50, 50,  1, 57, 61, 43, 39, 56],\n",
       "        [45, 10,  1, 63, 53, 59,  1, 61, 43, 56, 43,  1, 59, 57, 43, 42],\n",
       "        [50, 63,  1, 45, 47, 60, 43, 52,  6,  1, 46, 43,  1, 51, 47, 45]])"
      ]
     },
     "execution_count": 22,
     "metadata": {},
     "output_type": "execute_result"
    }
   ],
   "source": [
    "xs"
   ]
  },
  {
   "cell_type": "code",
   "execution_count": 23,
   "metadata": {},
   "outputs": [
    {
     "data": {
      "text/plain": [
       "tensor([[53, 53, 49, 43, 42,  1, 58, 53, 61, 39, 56, 42,  1, 17, 52, 45],\n",
       "        [57, 46, 39, 50, 50,  1, 52, 53, 58,  8,  0, 25, 43, 58, 46, 47],\n",
       "        [ 1, 50, 47, 49, 43,  1, 63, 53, 59,  1, 53, 59, 56,  1, 41, 46],\n",
       "        [59, 52, 44, 43, 47, 45, 52, 43, 42,  1, 44, 56, 47, 43, 52, 42],\n",
       "        [39, 58, 43,  1, 44, 56, 47, 43, 52, 42, 57,  1, 59, 54, 53, 52],\n",
       "        [43, 56, 43,  1, 57, 46, 39, 50, 50,  1, 57, 61, 43, 39, 56,  1],\n",
       "        [10,  1, 63, 53, 59,  1, 61, 43, 56, 43,  1, 59, 57, 43, 42,  1],\n",
       "        [63,  1, 45, 47, 60, 43, 52,  6,  1, 46, 43,  1, 51, 47, 45, 46]])"
      ]
     },
     "execution_count": 23,
     "metadata": {},
     "output_type": "execute_result"
    }
   ],
   "source": [
    "ys"
   ]
  },
  {
   "cell_type": "markdown",
   "metadata": {},
   "source": [
    "## Training now- To confirm that gradients are flowing back correctly, we can then swap out parts of this model with llama and train again. Its important to log the training runs."
   ]
  },
  {
   "cell_type": "code",
   "execution_count": 76,
   "metadata": {},
   "outputs": [
    {
     "name": "stdout",
     "output_type": "stream",
     "text": [
      "model params: 33217\n",
      "validation loss:  3.9463608503341674\n"
     ]
    },
    {
     "data": {
      "text/plain": [
       "<Axes: >"
      ]
     },
     "execution_count": 76,
     "metadata": {},
     "output_type": "execute_result"
    },
    {
     "data": {
      "image/png": "[encoded data removed]",
      "text/plain": [
       "<Figure size 640x480 with 1 Axes>"
      ]
     },
     "metadata": {},
     "output_type": "display_data"
    }
   ],
   "source": [
    "MASTER_CONFIG.update({\n",
    "    'epochs': 1000,\n",
    "    'log_interval': 10,\n",
    "    'batch_size': 32,\n",
    "})\n",
    "model = SimpleBrokenModel(MASTER_CONFIG)\n",
    "\n",
    "optimizer = torch.optim.Adam(\n",
    "    model.parameters(), \n",
    ")\n",
    "\n",
    "def train(model, optimizer, scheduler=None, config=MASTER_CONFIG, print_logs=False):\n",
    "    losses = []\n",
    "    start_time = time.time()\n",
    "    for epoch in range(config['epochs']):\n",
    "        optimizer.zero_grad()\n",
    "        \n",
    "        xs, ys = get_batches(dataset, 'train', config['batch_size'], config['context_window'])\n",
    "        logits, loss = model(xs, targets=ys)\n",
    "        loss.backward()\n",
    "        optimizer.step()\n",
    "        \n",
    "        if scheduler:\n",
    "            scheduler.step()\n",
    "        \n",
    "        if epoch % config['log_interval'] == 0:\n",
    "            batch_time = time.time() - start_time\n",
    "            x = evaluate_loss(model)\n",
    "            losses += [x]\n",
    "            if print_logs:\n",
    "                print(f\"Epoch {epoch} | val loss {x['val']:.3f} | Time {batch_time:.3f} | ETA in seconds {batch_time * (config['epochs'] - epoch)/config['log_interval'] :.3f}\")\n",
    "            start_time = time.time()\n",
    "\n",
    "            if scheduler:\n",
    "                print(\"lr: \", scheduler.get_lr())\n",
    "\n",
    "    print(\"validation loss: \", losses[-1]['val'])\n",
    "    return pd.DataFrame(losses).plot()\n",
    "\n",
    "train(model, optimizer)"
   ]
  },
  {
   "cell_type": "markdown",
   "metadata": {},
   "source": [
    "*********\n",
    "### On intuitively observing the the results, we can say that model has not learned much. Comes down to analyzing the cross entropy loss before model training and after model training.\n",
    "******"
   ]
  },
  {
   "cell_type": "markdown",
   "metadata": {},
   "source": [
    "## Improvement 1: Removing the softmax layer. Inputs passed through cross entropy function should be unnormalized."
   ]
  },
  {
   "cell_type": "code",
   "execution_count": 77,
   "metadata": {},
   "outputs": [
    {
     "name": "stdout",
     "output_type": "stream",
     "text": [
      "model params: 33217\n",
      "validation loss:  2.5225677490234375\n"
     ]
    },
    {
     "data": {
      "text/plain": [
       "<Axes: >"
      ]
     },
     "execution_count": 77,
     "metadata": {},
     "output_type": "execute_result"
    },
    {
     "data": {
      "image/png": "[encoded data removed]",
      "text/plain": [
       "<Figure size 640x480 with 1 Axes>"
      ]
     },
     "metadata": {},
     "output_type": "display_data"
    }
   ],
   "source": [
    "class SimpleModel(nn.Module):\n",
    "    def __init__(self, config):\n",
    "        super().__init__()\n",
    "        self.config = config\n",
    "\n",
    "        self.embedding = nn.Embedding(config['vocab_size'], config['d_model'])\n",
    "        self.linear = nn.Sequential(\n",
    "            nn.Linear(config['d_model'], config['d_model']),\n",
    "            nn.ReLU(),\n",
    "            nn.Linear(config['d_model'], config['vocab_size']),\n",
    "        )\n",
    "\n",
    "        print(\"model params:\", sum([m.numel() for m in self.parameters()]))\n",
    "\n",
    "    def forward(self, idx, targets=None):\n",
    "        x = self.embedding(idx)\n",
    "        logits = self.linear(x)\n",
    "\n",
    "        if targets is not None:\n",
    "            loss = F.cross_entropy(logits.view(-1, self.config['vocab_size']), targets.view(-1))\n",
    "            return logits, loss\n",
    "\n",
    "        else:\n",
    "            return logits\n",
    "\n",
    "model = SimpleModel(MASTER_CONFIG)\n",
    "xs, ys = get_batches(dataset, 'train', MASTER_CONFIG['batch_size'], MASTER_CONFIG['context_window'])\n",
    "\n",
    "logits, loss = model(xs, ys)\n",
    "optimizer = torch.optim.Adam(model.parameters())\n",
    "train(model, optimizer)"
   ]
  },
  {
   "cell_type": "markdown",
   "metadata": {},
   "source": [
    "## Adding generate method at the end of the training pipeline to visualize results"
   ]
  },
  {
   "cell_type": "code",
   "execution_count": 78,
   "metadata": {},
   "outputs": [
    {
     "data": {
      "text/plain": [
       "[\"\\n\\nGBerou?\\n\\nYo'sthis t ole,\\nBY O\",\n",
       " '\\n\\nHathe:\\nTe Wif t to f t HAno u',\n",
       " '\\nIOUTheeecoppagy conelve ck h t',\n",
       " '\\nS:\\nDhe ad\\nAGLUSh:\\n\\nF be f, tor',\n",
       " '\\nWhan w divein my etata-\\n\\n\\n\\nWh ']"
      ]
     },
     "execution_count": 78,
     "metadata": {},
     "output_type": "execute_result"
    }
   ],
   "source": [
    "def generate(model, config=MASTER_CONFIG, max_new_tokens=30):\n",
    "    idx = torch.zeros(5, 1).long()\n",
    "    for _ in range(max_new_tokens):\n",
    "        # call the model\n",
    "        logits = model(idx[:, -config['context_window']:])\n",
    "        #print(logits.shape)\n",
    "        \n",
    "        last_time_step_logits = logits[\n",
    "            :, -1, :\n",
    "        ]  # all the batches (1), last time step, all the logits\n",
    "        p = F.softmax(last_time_step_logits, dim=-1)  # softmax to get probabilities\n",
    "        idx_next = torch.multinomial(\n",
    "            p, num_samples=1\n",
    "        )  # sample from the distribution to get the next token\n",
    "        idx = torch.cat([idx, idx_next], dim=-1)  # append to the sequence\n",
    "        \n",
    "    return [decode(x) for x in idx.tolist()]\n",
    "\n",
    "generate(model)"
   ]
  },
  {
   "cell_type": "markdown",
   "metadata": {},
   "source": [
    "### Note: We have a working end to end model, now we will bring this closer to llama"
   ]
  },
  {
   "cell_type": "markdown",
   "metadata": {},
   "source": [
    "**********\n",
    "### LLaMA adds 3 things to the transformer model\n",
    "\n",
    "1. RMSNorm for pre-normalization\n",
    "2. Rotary embeddings\n",
    "3. SwiGLU activation function\n",
    "\n",
    "We will add each one and iterate\n",
    "**********"
   ]
  },
  {
   "cell_type": "markdown",
   "metadata": {},
   "source": [
    "## RMS Norm"
   ]
  },
  {
   "cell_type": "markdown",
   "metadata": {},
   "source": [
    "Instead of using batch normzalization as in the original transformer paper, Llama uses rmsnorm. In this, vectors are scaled using variances instead of centering it. Instead of applying it after attention layer, Llama uses it before attention layer"
   ]
  },
  {
   "cell_type": "code",
   "execution_count": 79,
   "metadata": {},
   "outputs": [
    {
     "name": "stdout",
     "output_type": "stream",
     "text": [
      "torch.Size([5, 11, 13])\n"
     ]
    }
   ],
   "source": [
    "class RMSNorm(nn.Module):\n",
    "    def __init__(self, layer_shape, eps=1e-8, bias=False):\n",
    "        super(RMSNorm, self).__init__()\n",
    "        self.register_parameter(\"scale\", nn.Parameter(torch.ones(layer_shape)))\n",
    "\n",
    "    def forward(self, x):\n",
    "        \"\"\"\n",
    "        assumes shape is (batch, seq_len, d_model)\n",
    "        \"\"\"\n",
    "        # frob norm is not the same as RMS. RMS = 1/sqrt(N) * frob norm\n",
    "        ff_rms = torch.linalg.norm(x, dim=(1,2)) * x[0].numel() ** -.5\n",
    "        \n",
    "        raw = x / ff_rms.unsqueeze(-1).unsqueeze(-1)\n",
    "        \n",
    "        return self.scale[:x.shape[1], :].unsqueeze(0) * raw\n",
    "\n",
    "config = {\n",
    "    'batch_size': 5,\n",
    "    'context_window': 11,\n",
    "    'd_model': 13,\n",
    "}\n",
    "batch = torch.randn((config['batch_size'], config['context_window'], config['d_model']))\n",
    "m = RMSNorm((config['context_window'], config['d_model']))\n",
    "g = m(batch)\n",
    "print(g.shape)"
   ]
  },
  {
   "cell_type": "markdown",
   "metadata": {},
   "source": [
    "## Testing RMS norm- The RMSNorm has the property where the norm of the layer will be the square root of the number of elements in the layer, so we can check that for every layer"
   ]
  },
  {
   "cell_type": "code",
   "execution_count": 80,
   "metadata": {},
   "outputs": [],
   "source": [
    "rms = torch.linalg.norm(batch, dim=(1,2)) * (batch[0].numel() ** -.5)\n",
    "\n",
    "assert torch.linalg.norm( torch.arange(5).float() ) == (torch.arange(5).float() ** 2 ).sum() ** .5\n",
    "rms = torch.linalg.norm( torch.arange(5).float() ) * (torch.arange(5).numel() ** -.5)\n",
    "assert torch.allclose(torch.linalg.norm(torch.arange(5).float() / rms), torch.tensor(5 ** .5))\n",
    "ff_rms = torch.linalg.norm(batch, dim=(1,2)) * batch.shape[1:].numel() ** -.5\n",
    "\n",
    "# RMS for sure\n",
    "ffx = torch.zeros_like(batch)\n",
    "for i in range(batch.shape[0]):\n",
    "    ffx[i] = batch[i] / ff_rms[i]\n",
    "assert torch.allclose(torch.linalg.norm(ffx, dim=(1,2)) ** 2, torch.tensor(143).float())\n",
    "assert torch.allclose(ffx, g)"
   ]
  },
  {
   "cell_type": "markdown",
   "metadata": {},
   "source": [
    "## Putting RMS Norm in our model"
   ]
  },
  {
   "cell_type": "code",
   "execution_count": 81,
   "metadata": {},
   "outputs": [
    {
     "name": "stdout",
     "output_type": "stream",
     "text": [
      "model params: 35265\n",
      "validation loss:  2.5192952156066895\n"
     ]
    },
    {
     "data": {
      "text/plain": [
       "<Axes: >"
      ]
     },
     "execution_count": 81,
     "metadata": {},
     "output_type": "execute_result"
    },
    {
     "data": {
      "image/png": "[encoded data removed]",
      "text/plain": [
       "<Figure size 640x480 with 1 Axes>"
      ]
     },
     "metadata": {},
     "output_type": "display_data"
    }
   ],
   "source": [
    "class SimpleModel_RMS(nn.Module):\n",
    "    def __init__(self, config):\n",
    "        super().__init__()\n",
    "        self.config = config\n",
    "\n",
    "        self.embedding = nn.Embedding(config['vocab_size'], config['d_model'])\n",
    "        self.rms = RMSNorm((config['context_window'], config['d_model']))\n",
    "        self.linear = nn.Sequential(\n",
    "            nn.Linear(config['d_model'], config['d_model']),\n",
    "            nn.ReLU(),\n",
    "            nn.Linear(config['d_model'], config['vocab_size']),\n",
    "        )\n",
    "\n",
    "        print(\"model params:\", sum([m.numel() for m in self.parameters()]))\n",
    "\n",
    "    def forward(self, idx, targets=None):\n",
    "        x = self.embedding(idx)\n",
    "        x = self.rms(x) # rms pre-normalization\n",
    "        logits = self.linear(x)\n",
    "\n",
    "        if targets is not None:\n",
    "            loss = F.cross_entropy(logits.view(-1, self.config['vocab_size']), targets.view(-1))\n",
    "            return logits, loss\n",
    "\n",
    "        else:\n",
    "            return logits\n",
    "\n",
    "model = SimpleModel_RMS(MASTER_CONFIG)\n",
    "xs, ys = get_batches(dataset, 'train', MASTER_CONFIG['batch_size'], MASTER_CONFIG['context_window'])\n",
    "\n",
    "logits, loss = model(xs, ys)\n",
    "optimizer = torch.optim.Adam(model.parameters())\n",
    "train(model, optimizer)"
   ]
  },
  {
   "cell_type": "code",
   "execution_count": 82,
   "metadata": {},
   "outputs": [],
   "source": [
    "def get_rotary_matrix(context_window, embedding_dim):\n",
    "    R = torch.zeros((context_window, embedding_dim, embedding_dim), requires_grad=False)\n",
    "    for position in range(context_window):\n",
    "        for i in range(embedding_dim//2):\n",
    "            theta = 10000. ** (-2.*(i - 1) / embedding_dim)\n",
    "            m_theta = position * theta\n",
    "            R[position, 2*i,2*i] = np.cos(m_theta)\n",
    "            R[position, 2*i,2*i+1] = - np.sin(m_theta)\n",
    "            R[position, 2*i+1,2*i] = np.sin(m_theta)\n",
    "            R[position, 2*i+1,2*i+1] = np.cos(m_theta)\n",
    "    return R"
   ]
  },
  {
   "cell_type": "code",
   "execution_count": 16,
   "metadata": {},
   "outputs": [
    {
     "data": {
      "text/plain": [
       "tensor([[[ 1.0000, -0.0000,  0.0000,  0.0000],\n",
       "         [ 0.0000,  1.0000,  0.0000,  0.0000],\n",
       "         [ 0.0000,  0.0000,  1.0000, -0.0000],\n",
       "         [ 0.0000,  0.0000,  0.0000,  1.0000]],\n",
       "\n",
       "        [[ 0.8623,  0.5064,  0.0000,  0.0000],\n",
       "         [-0.5064,  0.8623,  0.0000,  0.0000],\n",
       "         [ 0.0000,  0.0000,  0.5403, -0.8415],\n",
       "         [ 0.0000,  0.0000,  0.8415,  0.5403]]])"
      ]
     },
     "execution_count": 16,
     "metadata": {},
     "output_type": "execute_result"
    }
   ],
   "source": [
    "get_rotary_matrix(2,4)"
   ]
  },
  {
   "cell_type": "code",
   "execution_count": 244,
   "metadata": {},
   "outputs": [
    {
     "data": {
      "image/png": "[encoded data removed]",
      "text/plain": [
       "<Figure size 900x1200 with 9 Axes>"
      ]
     },
     "metadata": {},
     "output_type": "display_data"
    }
   ],
   "source": [
    "K = 3\n",
    "config = {\n",
    "    'batch_size': 10,\n",
    "    'd_model': 32,\n",
    "    'n_heads': 8,\n",
    "    'context_window': K**2,\n",
    "}\n",
    "batch = torch.randn(1, config['context_window'], config['d_model'])\n",
    "R = get_rotary_matrix(config['context_window'], config['d_model'])\n",
    "\n",
    "fig, ax = plt.subplots(K, K, figsize=(K * 3, K * 4))\n",
    "\n",
    "for i in range(K):\n",
    "    for j in range(K):\n",
    "        ax[i, j].imshow(R[i * K + j, :, :].detach().numpy())\n",
    "        ax[i, j].set_title(f'rotation at {i * K + j}')"
   ]
  },
  {
   "cell_type": "markdown",
   "metadata": {},
   "source": [
    "## ROPE check- check the maths of this"
   ]
  },
  {
   "cell_type": "code",
   "execution_count": 17,
   "metadata": {},
   "outputs": [],
   "source": [
    "config = {\n",
    "    'd_model': 128,\n",
    "    'context_window': 16,\n",
    "}\n",
    "\n",
    "R = get_rotary_matrix(config['context_window'], config['d_model'])\n",
    "x = torch.randn(config['d_model'])\n",
    "y = torch.randn(config['d_model'])\n",
    "\n",
    "m = 3\n",
    "n = 13\n",
    "\n",
    "x_m = R[m,:,:] @ x\n",
    "x_n = R[n,:,:] @ y\n",
    "\n",
    "assert torch.isclose(x_m @ x_n, x @ R[n-m,:,:] @ y)"
   ]
  },
  {
   "cell_type": "code",
   "execution_count": 28,
   "metadata": {},
   "outputs": [],
   "source": [
    "\n",
    "config = {\n",
    "    'batch_size': 10,\n",
    "    'd_model': 512,\n",
    "    'n_heads': 8,\n",
    "    'context_window': 16,\n",
    "}\n",
    "\n",
    "class RoPEAttentionHead(nn.Module):\n",
    "    def __init__(self, config):\n",
    "        super().__init__()\n",
    "        self.config = config\n",
    "        self.w_q = nn.Linear(config['d_model'], config['d_model'], bias=False)\n",
    "        self.w_k = nn.Linear(config['d_model'], config['d_model'], bias=False)\n",
    "        self.w_v = nn.Linear(config['d_model'], config['d_model'], bias=False)\n",
    "\n",
    "        self.R = get_rotary_matrix(config['context_window'], config['d_model'])\n",
    "\n",
    "    def get_rotary_matrix(context_window, embedding_dim):\n",
    "        R = torch.zeros((context_window, embedding_dim, embedding_dim), requires_grad=False)\n",
    "        for position in range(context_window):\n",
    "            for i in range(embedding_dim//2):\n",
    "                theta = 10000. ** (-2.*(i - 1) / embedding_dim)\n",
    "                m_theta = position * theta\n",
    "                R[position, 2*i,2*i] = np.cos(m_theta)\n",
    "                R[position, 2*i,2*i+1] = - np.sin(m_theta)\n",
    "                R[position, 2*i+1,2*i] = np.sin(m_theta)\n",
    "                R[position, 2*i+1,2*i+1] = np.cos(m_theta)\n",
    "        return R\n",
    "    \n",
    "    def forward(self, x, return_attn_weights=False):\n",
    "        b,m,d = x.shape\n",
    "        \n",
    "        # First calculating q,k,v\n",
    "        q = self.w_q(x)\n",
    "        k = self.w_k(x)\n",
    "        v = self.w_v(x)\n",
    "\n",
    "        q_rotated = (torch.bmm(q.transpose(0,1), self.R[:m])).transpose(0,1)\n",
    "        k_rotated = (torch.bmm(k.transpose(0,1), self.R[:m])).transpose(0,1)\n",
    "        \n",
    "\n",
    "        activations = F.scaled_dot_product_attention(\n",
    "            q_rotated,k_rotated,v,dropout_p =.1\n",
    "        )\n",
    "        \n",
    "        if return_attn_weights:\n",
    "            attn_weights = torch.bmm(q_rotated, k_rotated.transpose(1,2)) / np.sqrt(d)\n",
    "            attn_weights = F.softmax(attn_weights, dim=-1)\n",
    "            return activations, attn_weights\n",
    "        return activations\n",
    "\n",
    "layer = RoPEAttentionHead(config)\n",
    "batch = torch.randn((config['batch_size'], config['context_window'], config['d_model']))\n",
    "output, attn_weights = layer(batch, return_attn_weights=True)"
   ]
  },
  {
   "cell_type": "code",
   "execution_count": 29,
   "metadata": {},
   "outputs": [
    {
     "data": {
      "text/plain": [
       "torch.Size([10, 16, 512])"
      ]
     },
     "execution_count": 29,
     "metadata": {},
     "output_type": "execute_result"
    }
   ],
   "source": [
    "output.shape"
   ]
  },
  {
   "cell_type": "code",
   "execution_count": 30,
   "metadata": {},
   "outputs": [],
   "source": [
    "batch_inference=torch.randn((1, 1, config['d_model']))\n",
    "output_inference, attn_weights_inference = layer(batch_inference, return_attn_weights=True)"
   ]
  },
  {
   "cell_type": "code",
   "execution_count": 31,
   "metadata": {},
   "outputs": [
    {
     "data": {
      "text/plain": [
       "torch.Size([1, 1, 512])"
      ]
     },
     "execution_count": 31,
     "metadata": {},
     "output_type": "execute_result"
    }
   ],
   "source": [
    "output_inference.shape"
   ]
  },
  {
   "cell_type": "markdown",
   "metadata": {},
   "source": [
    "### Note:\n",
    "\n",
    "I hadn't completely understood why indexing was necessary but the following is an explanation:\n",
    "\n",
    "\n",
    "Tip here: know the difference between tensor dimensions at train time vs tensor dimensions at inference time.\n",
    "\n",
    "Although at train time, you can expect your tensor dimensions to match your model parameters closely, eg batch.shape = (config['batch_size'], config['context_window'], config['d_model']), at inference time, you may have to deal with a single example, eg batch.shape = (1, 1, config['d_model']). For this reason, you need to make sure that when you're indexing in the forward pass, you're indexing using shapes derived from the input, not necessarily the model parameters."
   ]
  },
  {
   "cell_type": "markdown",
   "metadata": {},
   "source": [
    "**************\n",
    "Let's make sure it does what we think it does. For this layer, we're going to want to test three things:\n",
    "\n",
    "that it rotates embeddings the way we think it does\n",
    "that the attention mask used for causal attention is working properly."
   ]
  },
  {
   "cell_type": "markdown",
   "metadata": {},
   "source": [
    "1."
   ]
  },
  {
   "cell_type": "code",
   "execution_count": 20,
   "metadata": {},
   "outputs": [],
   "source": [
    "x = torch.randn((config['batch_size'], config['context_window'], config['d_model']))\n",
    "\n",
    "q = layer.w_q(x)\n",
    "k = layer.w_k(x)\n",
    "v = layer.w_v(x)\n",
    "# print(q.shape)\n",
    "\n",
    "q_rotated = torch.zeros_like(x)\n",
    "k_rotated = torch.zeros_like(x)\n",
    "v_rotated = torch.zeros_like(x)\n",
    "\n",
    "\n",
    "for position in range(config['context_window']):\n",
    "    q_rotated[:,position,:] = torch.matmul(q[:,position,:], layer.R[position,:,:])\n",
    "    k_rotated[:,position,:] = torch.matmul(k[:,position,:], layer.R[position,:,:])\n",
    "    v_rotated[:,position,:] = torch.matmul(v[:,position,:], layer.R[position,:,:])\n",
    "\n",
    "q_rotated = (torch.bmm(q.transpose(0,1), layer.R)).transpose(0,1)\n",
    "k_rotated = (torch.bmm(k.transpose(0,1), layer.R)).transpose(0,1)\n",
    "v_out = (torch.bmm(v.transpose(0,1), layer.R)).transpose(0,1)\n",
    "\n",
    "assert torch.allclose(q.transpose(0,1)[0], q[:,0,:])\n",
    "assert torch.allclose(q.transpose(0,1)[0] @ layer.R[0], q[:,0,:] @ layer.R[0])\n",
    "assert torch.allclose(q_rotated, q_rotated)"
   ]
  },
  {
   "cell_type": "markdown",
   "metadata": {},
   "source": [
    "2."
   ]
  },
  {
   "cell_type": "code",
   "execution_count": 21,
   "metadata": {},
   "outputs": [
    {
     "name": "stderr",
     "output_type": "stream",
     "text": [
      "/var/folders/31/4ls8ds9x7vl8895bddgntg700000gn/T/ipykernel_1542/3895307665.py:27: UserWarning: The use of `x.T` on tensors of dimension other than 2 to reverse their shape is deprecated and it will throw an error in a future release. Consider `x.mT` to transpose batches of matrices or `x.permute(*torch.arange(x.ndim - 1, -1, -1))` to reverse the dimensions of a tensor. (Triggered internally at /Users/runner/work/_temp/anaconda/conda-bld/pytorch_1702400154748/work/aten/src/ATen/native/TensorShape.cpp:3618.)\n",
      "  assert q.T @ k == q @ k # transpose is redundant\n"
     ]
    }
   ],
   "source": [
    "config = {\n",
    "    'batch_size': 1,\n",
    "    'd_model': 2,\n",
    "    'n_heads': 2,\n",
    "    'context_window': 3,\n",
    "}\n",
    "\n",
    "layer = RoPEAttentionHead(config)\n",
    "batch = torch.ones((config['batch_size'], config['context_window'], config['d_model']))\n",
    "output, attn_weights = layer(batch, return_attn_weights=True)\n",
    "\n",
    "m = 0\n",
    "x_q = batch[0, m]\n",
    "q = layer.R[m,:,:] @ layer.w_q(x_q)\n",
    "\n",
    "assert torch.allclose(layer.w_q(x_q), layer.w_q.weight @ x_q)\n",
    "assert torch.allclose(q, layer.R[m, :, :] @ layer.w_q.weight @ x_q)\n",
    "\n",
    "n = 2\n",
    "x_k = batch[0, n]\n",
    "k = layer.R[n,:,:] @ layer.w_k(x_k)\n",
    "\n",
    "assert torch.allclose(layer.w_k(x_k), layer.w_k.weight @ x_k)\n",
    "assert torch.allclose(k, layer.R[n, :, :] @ layer.w_k.weight @ x_k)\n",
    "\n",
    "\n",
    "assert q.T @ k == q @ k # transpose is redundant\n",
    "assert torch.allclose(q @ k, x_k.T @ layer.w_k.weight.T @ layer.R[n, :, :].T @ layer.R[m, :, :] @ layer.w_q.weight @ x_q)\n",
    "assert torch.allclose(q @ k, x_k.T @ layer.w_k.weight.T @ layer.R[n-m, :, :].T @ layer.w_q.weight @ x_q)\n"
   ]
  },
  {
   "cell_type": "markdown",
   "metadata": {},
   "source": [
    "*****"
   ]
  },
  {
   "cell_type": "markdown",
   "metadata": {},
   "source": [
    "Let's setup a multi-headed attention layer for this singular attention head and see what happens when we train."
   ]
  },
  {
   "cell_type": "code",
   "execution_count": 83,
   "metadata": {},
   "outputs": [
    {
     "data": {
      "text/plain": [
       "torch.Size([32, 16, 128])"
      ]
     },
     "execution_count": 83,
     "metadata": {},
     "output_type": "execute_result"
    }
   ],
   "source": [
    "# definitely there's an optimization we could make where we cache the rotation matrices, but skip.\n",
    "class RoPEMultiheadAttention(nn.Module):\n",
    "    def __init__(self, config):\n",
    "        super().__init__()\n",
    "        self.config = config\n",
    "        self.heads = nn.ModuleList([\n",
    "            RoPEAttentionHead(config) for _ in range(config['n_heads'])\n",
    "        ])\n",
    "        self.linear = nn.Linear(config['n_heads'] * config['d_model'], config['d_model'])\n",
    "        self.dropout = nn.Dropout(.1)\n",
    "\n",
    "    def forward(self, x):\n",
    "        heads = [h(x) for h in self.heads]\n",
    "        x = torch.cat(heads, dim=-1)\n",
    "        x = self.linear(x)\n",
    "        x = self.dropout(x)\n",
    "        return x\n",
    "    \n",
    "MASTER_CONFIG.update({\n",
    "    'n_heads': 8,\n",
    "})\n",
    "layer = RoPEMultiheadAttention(MASTER_CONFIG)\n",
    "batch = torch.ones((MASTER_CONFIG['batch_size'], MASTER_CONFIG['context_window'], MASTER_CONFIG['d_model']))\n",
    "output = layer(batch)\n",
    "output.shape"
   ]
  },
  {
   "cell_type": "code",
   "execution_count": 84,
   "metadata": {},
   "outputs": [
    {
     "name": "stdout",
     "output_type": "stream",
     "text": [
      "model params: 559681\n",
      "torch.Size([32, 16])\n",
      "validation loss:  0.1581590786576271\n"
     ]
    },
    {
     "data": {
      "text/plain": [
       "<Axes: >"
      ]
     },
     "execution_count": 84,
     "metadata": {},
     "output_type": "execute_result"
    },
    {
     "data": {
      "image/png": "[encoded data removed]",
      "text/plain": [
       "<Figure size 640x480 with 1 Axes>"
      ]
     },
     "metadata": {},
     "output_type": "display_data"
    }
   ],
   "source": [
    "class RopeModel(nn.Module):\n",
    "    def __init__(self, config):\n",
    "        super().__init__()\n",
    "        self.config = config\n",
    "\n",
    "        self.embedding = nn.Embedding(config['vocab_size'], config['d_model'])\n",
    "        self.rms = RMSNorm((config['context_window'], config['d_model']))\n",
    "        self.rope_attention = RoPEMultiheadAttention(config)\n",
    "\n",
    "        self.linear = nn.Sequential(\n",
    "            nn.Linear(config['d_model'], config['d_model']),\n",
    "            nn.ReLU(),\n",
    "        )\n",
    "\n",
    "        self.last_linear = nn.Linear(config['d_model'], config['vocab_size'])\n",
    "        \n",
    "        print(\"model params:\", sum([m.numel() for m in self.parameters()]))\n",
    "\n",
    "    def forward(self, idx, targets=None):\n",
    "        x = self.embedding(idx)\n",
    "        \n",
    "        # one block of attention\n",
    "        x = self.rms(x) # rms pre-normalization\n",
    "        x = x + self.rope_attention(x)\n",
    "\n",
    "        x = self.rms(x) # rms pre-normalization\n",
    "        x = x + self.linear(x)\n",
    "\n",
    "        logits = self.last_linear(x)\n",
    "\n",
    "        if targets is not None:\n",
    "            loss = F.cross_entropy(logits.view(-1, self.config['vocab_size']), targets.view(-1))\n",
    "            return logits, loss\n",
    "\n",
    "        else:\n",
    "            return logits\n",
    "\n",
    "model = RopeModel(MASTER_CONFIG)\n",
    "xs, ys = get_batches(dataset, 'train', MASTER_CONFIG['batch_size'], MASTER_CONFIG['context_window'])\n",
    "print(ys.shape)\n",
    "\n",
    "\n",
    "logits, loss = model(xs, ys)\n",
    "optimizer = torch.optim.Adam(model.parameters())\n",
    "train(model, optimizer)"
   ]
  },
  {
   "cell_type": "markdown",
   "metadata": {},
   "source": [
    "### Validation loss is low, doing a check on generation"
   ]
  },
  {
   "cell_type": "code",
   "execution_count": 86,
   "metadata": {},
   "outputs": [
    {
     "data": {
      "text/plain": [
       "['\\n\\n\\n\\n\\n\\nEEENEQEEEE\\nEEEEEEEEEEEEEE',\n",
       " '\\n\\n\\n\\n\\n\\n\\nOOOOOOOOOOOOOOOOOOOOOOOO',\n",
       " '\\n\\n\\n\\n\\n\\n\\n\\n\\n\\n\\n\\nOOOOKOUCOLOOLEOO:O?',\n",
       " '\\n\\n\\nOOOOOOOOOOOOOOOOOOOOOOOOOOOO',\n",
       " '\\n\\n\\n\\n\\n\\n\\n\\n\\n\\n\\n\\n\\n\\n\\n\\n\\nOO\\nOLLAOOLLEOO']"
      ]
     },
     "execution_count": 86,
     "metadata": {},
     "output_type": "execute_result"
    }
   ],
   "source": [
    "generate(model, config=MASTER_CONFIG)"
   ]
  },
  {
   "cell_type": "code",
   "execution_count": null,
   "metadata": {},
   "outputs": [],
   "source": []
  }
 ],
 "metadata": {
  "kernelspec": {
   "display_name": "llm",
   "language": "python",
   "name": "python3"
  },
  "language_info": {
   "codemirror_mode": {
    "name": "ipython",
    "version": 3
   },
   "file_extension": ".py",
   "mimetype": "text/x-python",
   "name": "python",
   "nbconvert_exporter": "python",
   "pygments_lexer": "ipython3",
   "version": "3.8.18"
  }
 },
 "nbformat": 4,
 "nbformat_minor": 2
}
